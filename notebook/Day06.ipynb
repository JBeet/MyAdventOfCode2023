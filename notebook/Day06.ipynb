{
 "cells": [
  {
   "cell_type": "code",
   "execution_count": null,
   "outputs": [],
   "source": [
    "%use dataframe, kandy"
   ],
   "metadata": {
    "collapsed": false
   }
  },
  {
   "cell_type": "code",
   "execution_count": null,
   "outputs": [],
   "source": [
    "val txt = \"\"\"Time:      7  15   30\n",
    "Distance:  9  40  200\n",
    "\"\"\".reader().readLines()\n",
    "\n",
    "fun String.toInts() = split(' ').filter { it.isNotBlank() }.map { it.toInt() }\n",
    "val times = txt[0].removePrefix(\"Time:\").toInts()\n",
    "val distances = txt[1].removePrefix(\"Distance:\").toInts()\n",
    "\n",
    "\"$times / $distances\"\n"
   ],
   "metadata": {
    "collapsed": false
   }
  },
  {
   "cell_type": "code",
   "execution_count": null,
   "outputs": [],
   "source": [
    "data class Race(val timeAvailable: Int, val bestDistance: Int)\n",
    "val racesDF = times.zip(distances).map { (t, d) -> Race(t, d) }.toDataFrame()"
   ],
   "metadata": {
    "collapsed": false
   }
  },
  {
   "cell_type": "code",
   "execution_count": null,
   "outputs": [],
   "source": [
    "var i = 0\n",
    "val triesDF = racesDF.add(\"raceNr\") { ++i }.add(\"buttonTime\") { (0..timeAvailable).toList() }.explode(\"buttonTime\")"
   ],
   "metadata": {
    "collapsed": false
   }
  },
  {
   "cell_type": "code",
   "execution_count": null,
   "outputs": [],
   "source": [
    "val triesResultsDF = triesDF.add(\"relativeTotalDistance\") { \n",
    "    buttonTime * (timeAvailable - buttonTime) / bestDistance.toDouble()\n",
    "}"
   ],
   "metadata": {
    "collapsed": false
   }
  },
  {
   "cell_type": "code",
   "execution_count": null,
   "outputs": [],
   "source": [
    "val progressDF = triesResultsDF.add(\"t\") { (0..timeAvailable).toList() }.explode(\"t\")"
   ],
   "metadata": {
    "collapsed": false
   }
  },
  {
   "cell_type": "code",
   "execution_count": null,
   "outputs": [],
   "source": [
    "val distancesDF = progressDF.add(\"relativeDistance\") { (t - buttonTime).coerceAtLeast(0) * buttonTime / bestDistance.toDouble() }"
   ],
   "metadata": {
    "collapsed": false
   }
  },
  {
   "cell_type": "code",
   "execution_count": null,
   "outputs": [],
   "source": [
    "plot(distancesDF) {\n",
    "    groupBy(raceNr, buttonTime) {\n",
    "        line {\n",
    "            hLine {\n",
    "                yIntercept.constant(1.0)\n",
    "                color = Color.BLACK\n",
    "                type = LineType.DASHED\n",
    "            }\n",
    "            x(t)\n",
    "            y(relativeDistance)\n",
    "            width = 2.0\n",
    "            color(relativeTotalDistance) {\n",
    "                scale = continuousColorHue(direction = WheelDirection.CLOCKWISE)\n",
    "            }\n",
    "        }\n",
    "    }\n",
    "}"
   ],
   "metadata": {
    "collapsed": false
   }
  },
  {
   "cell_type": "code",
   "execution_count": null,
   "outputs": [],
   "source": [
    "triesResultsDF.groupBy { it.raceNr }.count { it.relativeTotalDistance > 1.0 }\n"
   ],
   "metadata": {
    "collapsed": false
   }
  },
  {
   "cell_type": "code",
   "execution_count": null,
   "outputs": [],
   "source": [],
   "metadata": {
    "collapsed": false
   }
  }
 ],
 "metadata": {
  "kernelspec": {
   "display_name": "Kotlin",
   "language": "kotlin",
   "name": "kotlin"
  },
  "language_info": {
   "name": "kotlin",
   "version": "1.9.0",
   "mimetype": "text/x-kotlin",
   "file_extension": ".kt",
   "pygments_lexer": "kotlin",
   "codemirror_mode": "text/x-kotlin",
   "nbconvert_exporter": ""
  }
 },
 "nbformat": 4,
 "nbformat_minor": 0
}
